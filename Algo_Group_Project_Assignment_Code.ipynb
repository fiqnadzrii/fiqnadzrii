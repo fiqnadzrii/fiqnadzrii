{
  "nbformat": 4,
  "nbformat_minor": 0,
  "metadata": {
    "colab": {
      "provenance": [],
      "collapsed_sections": [
        "JBT3OMpRuBzO",
        "qems_bRAuEX7",
        "iC9KPxUmubq8"
      ],
      "include_colab_link": true
    },
    "kernelspec": {
      "name": "python3",
      "display_name": "Python 3"
    },
    "language_info": {
      "name": "python"
    }
  },
  "cells": [
    {
      "cell_type": "markdown",
      "metadata": {
        "id": "view-in-github",
        "colab_type": "text"
      },
      "source": [
        "<a href=\"https://colab.research.google.com/github/fiqnadzrii/fiqnadzrii/blob/main/Algo_Group_Project_Assignment_Code.ipynb\" target=\"_parent\"><img src=\"https://colab.research.google.com/assets/colab-badge.svg\" alt=\"Open In Colab\"/></a>"
      ]
    },
    {
      "cell_type": "markdown",
      "source": [
        "#PART 1"
      ],
      "metadata": {
        "id": "JBT3OMpRuBzO"
      }
    },
    {
      "cell_type": "code",
      "source": [
        "def finddapaths(pyramid, startpoint):\n",
        "    def dfs(current, path):\n",
        "        if len(visited) == len(pyramid):\n",
        "            paths.append(list(output))\n",
        "            return\n",
        "\n",
        "        deadEnd = True\n",
        "        for nextBlocks in pyramid[current]:\n",
        "            if nextBlocks not in visited:\n",
        "                if current not in output:\n",
        "                    output.append(current)\n",
        "                deadEnd = False\n",
        "                path.append(nextBlocks)\n",
        "                output.append(nextBlocks)\n",
        "                visited.add(nextBlocks)\n",
        "                dfs(nextBlocks, path)\n",
        "                blockpath = path.pop()\n",
        "                output.append(blockpath)\n",
        "\n",
        "        if deadEnd:\n",
        "            paths.append(list(output))\n",
        "            output.clear()\n",
        "\n",
        "    paths = []\n",
        "    output = []\n",
        "    visited = {startpoint}\n",
        "    dfs(start, [startpoint])\n",
        "    return paths\n",
        "\n",
        "\n",
        "pyramidMap = {\n",
        "    1: [2, 6], 2: [1, 3], 3: [2, 8], 4: [5], 5: [4, 10],\n",
        "    6: [1, 11], 7: [8, 12], 8: [3, 7, 13, 9], 9: [8, 10], 10: [5, 9, 15],\n",
        "    11: [6, 12], 12: [7, 11, 17], 13: [8, 18], 14: [19], 15: [10, 20],\n",
        "    16: [17, 21], 17: [12, 16, 22], 18: [13, 23], 19: [14, 20], 20: [19, 15],\n",
        "    21: [16], 22: [17], 23: [18, 24], 24: [23, 25], 25: [24]\n",
        "}\n",
        "\n",
        "start = 1\n",
        "\n",
        "allPaths = finddapaths(pyramidMap, start)\n",
        "for i in range(len(allPaths)):\n",
        "    if i == 0:\n",
        "        print(\"first path is: \")\n",
        "        for index, block in enumerate(allPaths[i]):\n",
        "            if index == len(allPaths[i]) - 1:\n",
        "                print(\"Block \" + str(block), end=\"\")\n",
        "            else:\n",
        "                print(\"Block \" + str(block) + \" ---> \", end=\"\")\n",
        "        print()\n",
        "        print()\n",
        "\n",
        "    else:\n",
        "        print(\"then you need to go from:\")\n",
        "        for index, block in enumerate(allPaths[i]):\n",
        "            if index == len(allPaths[i]) - 1:\n",
        "                print(\"Block \" + str(block), end=\"\")\n",
        "            else:\n",
        "                print(\"Block \" + str(block) + \" ---> \", end=\"\")\n",
        "        print()\n",
        "        print()"
      ],
      "metadata": {
        "colab": {
          "base_uri": "https://localhost:8080/"
        },
        "id": "RyZgeZ20uE6L",
        "outputId": "99c9760e-58a0-45cc-a8a4-2db542685a40"
      },
      "execution_count": null,
      "outputs": [
        {
          "output_type": "stream",
          "name": "stdout",
          "text": [
            "first path is: \n",
            "Block 1 ---> Block 2 ---> Block 3 ---> Block 8 ---> Block 7 ---> Block 12 ---> Block 11 ---> Block 6\n",
            "\n",
            "then you need to go from:\n",
            "Block 6 ---> Block 11 ---> Block 12 ---> Block 17 ---> Block 16 ---> Block 21\n",
            "\n",
            "then you need to go from:\n",
            "Block 21 ---> Block 16 ---> Block 17 ---> Block 22\n",
            "\n",
            "then you need to go from:\n",
            "Block 22 ---> Block 17 ---> Block 12 ---> Block 7 ---> Block 8 ---> Block 13 ---> Block 18 ---> Block 23 ---> Block 24 ---> Block 25\n",
            "\n",
            "then you need to go from:\n",
            "Block 25 ---> Block 24 ---> Block 23 ---> Block 18 ---> Block 13 ---> Block 8 ---> Block 9 ---> Block 10 ---> Block 5 ---> Block 4\n",
            "\n",
            "then you need to go from:\n",
            "Block 4 ---> Block 5 ---> Block 10 ---> Block 15 ---> Block 20 ---> Block 19 ---> Block 14\n",
            "\n"
          ]
        }
      ]
    },
    {
      "cell_type": "markdown",
      "source": [
        "#PART 2"
      ],
      "metadata": {
        "id": "qems_bRAuEX7"
      }
    },
    {
      "cell_type": "code",
      "source": [
        "def combination_generator(num_combinations):\n",
        "    # Loop through numbers from 0 to num_combinations - 1\n",
        "    for i in range(num_combinations):\n",
        "        # Format the number to ensure it has exactly 3 digits with leading zeros\n",
        "        formatted_combination = f\"{i:03}\"\n",
        "        # Print the formatted combination followed by a space\n",
        "        print(formatted_combination, end=' ')\n",
        "    # Print a newline at the end\n",
        "    print()\n",
        "    # Print the total number of combinations generated\n",
        "    print(f\"Total possible number of combinations generated: {num_combinations}\")\n",
        "\n",
        "# Call the function with 1000 to generate all possible 3-digit combinations\n",
        "combination_generator(1000)"
      ],
      "metadata": {
        "id": "afEt-taNuWjU",
        "outputId": "7d51feef-a77b-4240-f9b9-eb7f92a7fab7",
        "colab": {
          "base_uri": "https://localhost:8080/"
        }
      },
      "execution_count": null,
      "outputs": [
        {
          "output_type": "stream",
          "name": "stdout",
          "text": [
            "000 001 002 003 004 005 006 007 008 009 010 011 012 013 014 015 016 017 018 019 020 021 022 023 024 025 026 027 028 029 030 031 032 033 034 035 036 037 038 039 040 041 042 043 044 045 046 047 048 049 050 051 052 053 054 055 056 057 058 059 060 061 062 063 064 065 066 067 068 069 070 071 072 073 074 075 076 077 078 079 080 081 082 083 084 085 086 087 088 089 090 091 092 093 094 095 096 097 098 099 100 101 102 103 104 105 106 107 108 109 110 111 112 113 114 115 116 117 118 119 120 121 122 123 124 125 126 127 128 129 130 131 132 133 134 135 136 137 138 139 140 141 142 143 144 145 146 147 148 149 150 151 152 153 154 155 156 157 158 159 160 161 162 163 164 165 166 167 168 169 170 171 172 173 174 175 176 177 178 179 180 181 182 183 184 185 186 187 188 189 190 191 192 193 194 195 196 197 198 199 200 201 202 203 204 205 206 207 208 209 210 211 212 213 214 215 216 217 218 219 220 221 222 223 224 225 226 227 228 229 230 231 232 233 234 235 236 237 238 239 240 241 242 243 244 245 246 247 248 249 250 251 252 253 254 255 256 257 258 259 260 261 262 263 264 265 266 267 268 269 270 271 272 273 274 275 276 277 278 279 280 281 282 283 284 285 286 287 288 289 290 291 292 293 294 295 296 297 298 299 300 301 302 303 304 305 306 307 308 309 310 311 312 313 314 315 316 317 318 319 320 321 322 323 324 325 326 327 328 329 330 331 332 333 334 335 336 337 338 339 340 341 342 343 344 345 346 347 348 349 350 351 352 353 354 355 356 357 358 359 360 361 362 363 364 365 366 367 368 369 370 371 372 373 374 375 376 377 378 379 380 381 382 383 384 385 386 387 388 389 390 391 392 393 394 395 396 397 398 399 400 401 402 403 404 405 406 407 408 409 410 411 412 413 414 415 416 417 418 419 420 421 422 423 424 425 426 427 428 429 430 431 432 433 434 435 436 437 438 439 440 441 442 443 444 445 446 447 448 449 450 451 452 453 454 455 456 457 458 459 460 461 462 463 464 465 466 467 468 469 470 471 472 473 474 475 476 477 478 479 480 481 482 483 484 485 486 487 488 489 490 491 492 493 494 495 496 497 498 499 500 501 502 503 504 505 506 507 508 509 510 511 512 513 514 515 516 517 518 519 520 521 522 523 524 525 526 527 528 529 530 531 532 533 534 535 536 537 538 539 540 541 542 543 544 545 546 547 548 549 550 551 552 553 554 555 556 557 558 559 560 561 562 563 564 565 566 567 568 569 570 571 572 573 574 575 576 577 578 579 580 581 582 583 584 585 586 587 588 589 590 591 592 593 594 595 596 597 598 599 600 601 602 603 604 605 606 607 608 609 610 611 612 613 614 615 616 617 618 619 620 621 622 623 624 625 626 627 628 629 630 631 632 633 634 635 636 637 638 639 640 641 642 643 644 645 646 647 648 649 650 651 652 653 654 655 656 657 658 659 660 661 662 663 664 665 666 667 668 669 670 671 672 673 674 675 676 677 678 679 680 681 682 683 684 685 686 687 688 689 690 691 692 693 694 695 696 697 698 699 700 701 702 703 704 705 706 707 708 709 710 711 712 713 714 715 716 717 718 719 720 721 722 723 724 725 726 727 728 729 730 731 732 733 734 735 736 737 738 739 740 741 742 743 744 745 746 747 748 749 750 751 752 753 754 755 756 757 758 759 760 761 762 763 764 765 766 767 768 769 770 771 772 773 774 775 776 777 778 779 780 781 782 783 784 785 786 787 788 789 790 791 792 793 794 795 796 797 798 799 800 801 802 803 804 805 806 807 808 809 810 811 812 813 814 815 816 817 818 819 820 821 822 823 824 825 826 827 828 829 830 831 832 833 834 835 836 837 838 839 840 841 842 843 844 845 846 847 848 849 850 851 852 853 854 855 856 857 858 859 860 861 862 863 864 865 866 867 868 869 870 871 872 873 874 875 876 877 878 879 880 881 882 883 884 885 886 887 888 889 890 891 892 893 894 895 896 897 898 899 900 901 902 903 904 905 906 907 908 909 910 911 912 913 914 915 916 917 918 919 920 921 922 923 924 925 926 927 928 929 930 931 932 933 934 935 936 937 938 939 940 941 942 943 944 945 946 947 948 949 950 951 952 953 954 955 956 957 958 959 960 961 962 963 964 965 966 967 968 969 970 971 972 973 974 975 976 977 978 979 980 981 982 983 984 985 986 987 988 989 990 991 992 993 994 995 996 997 998 999 \n",
            "Total possible number of combinations generated: 1000\n"
          ]
        }
      ]
    },
    {
      "cell_type": "markdown",
      "source": [
        "# PART 3"
      ],
      "metadata": {
        "id": "iC9KPxUmubq8"
      }
    },
    {
      "cell_type": "code",
      "source": [
        "class Item:\n",
        "    def __init__(self, name, value, weight):\n",
        "        self.name = name\n",
        "        self.value = value\n",
        "        self.weight = weight\n",
        "        self.ratio = value / weight\n",
        "\n",
        "def knapsack(items, max_weight):\n",
        "    # Sort items by value-to-weight ratio in descending order\n",
        "    # Using builtin Timsort\n",
        "\n",
        "    items.sort(key=lambda x: x.ratio, reverse=True)\n",
        "\n",
        "    total_weight = 0\n",
        "    total_value = 0\n",
        "    selected_items = []\n",
        "\n",
        "    # Select items to maximize total value without exceeding max weight\n",
        "    for item in items:\n",
        "        if total_weight + item.weight <= max_weight:\n",
        "            selected_items.append(item)\n",
        "            total_weight += item.weight\n",
        "            total_value += item.value\n",
        "\n",
        "    return selected_items, total_value\n",
        "\n",
        "# Define items\n",
        "items = [\n",
        "    Item(\"Sceptre of Eternal Power\", float('inf'), 5),\n",
        "    Item(\"The Eye of Horus Pendant\", 2, 0.5),\n",
        "    Item(\"The Ankh of Immortality\", 5, 1.5),\n",
        "    Item(\"The Scarab Amulet of Fortune\", 1, 0.2),\n",
        "    Item(\"The Golden Mask of Osiris\", 10, 2),\n",
        "    Item(\"The Crown of the Pharaohs\", 15, 3),\n",
        "    Item(\"The Emerald Scarab of Transformation\", 3, 2)\n",
        "]\n",
        "\n",
        "max_weight = 10\n",
        "\n",
        "selected_items, total_value = knapsack(items, max_weight)\n",
        "\n",
        "print(\"\\033[34mSelected items:\\033[0m\")\n",
        "for item in selected_items:\n",
        "    print(f\"{item.name} \\t(Value: \\033[34m{item.value}\\033[0m, \\tWeight: \\033[34m{item.weight}\\033[0m\\t)\")\n",
        "\n",
        "print(f\"Total value: \\033[34m{total_value}\\033[0m\")\n"
      ],
      "metadata": {
        "id": "5gBcq-T9uwa5",
        "colab": {
          "base_uri": "https://localhost:8080/"
        },
        "outputId": "9bf3c9cb-136e-4847-de5f-d5304d1e7980"
      },
      "execution_count": null,
      "outputs": [
        {
          "output_type": "stream",
          "name": "stdout",
          "text": [
            "\u001b[34mSelected items:\u001b[0m\n",
            "Sceptre of Eternal Power \t(Value: \u001b[34minf\u001b[0m, \tWeight: \u001b[34m5\u001b[0m\t)\n",
            "The Scarab Amulet of Fortune \t(Value: \u001b[34m1\u001b[0m, \tWeight: \u001b[34m0.2\u001b[0m\t)\n",
            "The Golden Mask of Osiris \t(Value: \u001b[34m10\u001b[0m, \tWeight: \u001b[34m2\u001b[0m\t)\n",
            "The Eye of Horus Pendant \t(Value: \u001b[34m2\u001b[0m, \tWeight: \u001b[34m0.5\u001b[0m\t)\n",
            "The Ankh of Immortality \t(Value: \u001b[34m5\u001b[0m, \tWeight: \u001b[34m1.5\u001b[0m\t)\n",
            "Total value: \u001b[34minf\u001b[0m\n"
          ]
        }
      ]
    },
    {
      "cell_type": "markdown",
      "source": [
        "# PART 4"
      ],
      "metadata": {
        "id": "HTwjHt-ludUN"
      }
    },
    {
      "cell_type": "code",
      "source": [
        "def hunt_szymanski_lcs(tokens1, tokens2):\n",
        "    m, n = len(tokens1), len(tokens2)\n",
        "    # Create a 2D array to store lengths of longest common subsequence.\n",
        "    lcs_table = [[0] * (n + 1) for _ in range(m + 1)]\n",
        "\n",
        "    # Fill lcs_table in a bottom-up manner\n",
        "    for i in range(m + 1):\n",
        "        for j in range(n + 1):\n",
        "            if i == 0 or j == 0:\n",
        "                lcs_table[i][j] = 0\n",
        "            elif tokens1[i - 1] == tokens2[j - 1]:\n",
        "                lcs_table[i][j] = lcs_table[i - 1][j - 1] + 1\n",
        "            else:\n",
        "                lcs_table[i][j] = max(lcs_table[i - 1][j], lcs_table[i][j - 1])\n",
        "\n",
        "    # Backtrack to find the LCS\n",
        "    index = lcs_table[m][n]\n",
        "    lcs = [\"\"] * index  # Create a character array to store the lcs string\n",
        "    i, j = m, n\n",
        "    while i > 0 and j > 0:\n",
        "        if tokens1[i - 1] == tokens2[j - 1]:\n",
        "            lcs[index - 1] = tokens1[i - 1]\n",
        "            i -= 1\n",
        "            j -= 1\n",
        "            index -= 1\n",
        "        elif lcs_table[i - 1][j] > lcs_table[i][j - 1]:\n",
        "            i -= 1\n",
        "        else:\n",
        "            j -= 1\n",
        "\n",
        "    return lcs\n",
        "\n",
        "def find_different_words_hunt_szymanski(text1, text2):\n",
        "    # Tokenize the texts into words\n",
        "    tokens1 = text1.split()  # Split text1 into words\n",
        "    tokens2 = text2.split()  # Split text2 into words\n",
        "\n",
        "    # Find the LCS using the Hunt-Szymanski algorithm\n",
        "    lcs = hunt_szymanski_lcs(tokens1, tokens2)\n",
        "\n",
        "    different_words = []  # Initialize an empty list to store different words\n",
        "\n",
        "    # Initialize indices for tokens1, tokens2, and lcs\n",
        "    i, j, k = 0, 0, 0\n",
        "\n",
        "    # Iterate through tokens1 and tokens2\n",
        "    while i < len(tokens1) and j < len(tokens2):\n",
        "        # If current words in both tokens match the current LCS word\n",
        "        if k < len(lcs) and tokens1[i] == tokens2[j] == lcs[k]:\n",
        "            i += 1\n",
        "            j += 1\n",
        "            k += 1\n",
        "        else:\n",
        "            # If the words don't match, add them to the different_words list\n",
        "            if tokens1[i] != tokens2[j]:\n",
        "                different_words.append(f\"- {tokens1[i]}\")\n",
        "                different_words.append(f\"+ {tokens2[j]}\")\n",
        "            i += 1\n",
        "            j += 1\n",
        "\n",
        "    # Add any remaining words in tokens1\n",
        "    while i < len(tokens1):\n",
        "        different_words.append(f\"- {tokens1[i]}\")\n",
        "        i += 1\n",
        "\n",
        "    # Add any remaining words in tokens2\n",
        "    while j < len(tokens2):\n",
        "        different_words.append(f\"+ {tokens2[j]}\")\n",
        "        j += 1\n",
        "\n",
        "    return different_words\n",
        "\n",
        "# Texts algo jones found\n",
        "text1 = \"\"\"To My Dearest Nefertari, As I sit here amidst the grandeur of this\n",
        "ancient pyramid, surrounded by the whispers\n",
        "of the past, my thoughts turn to you, my\n",
        "beloved. Though miles may separate us, know\n",
        "that you are always in my heart, a beacon of\n",
        "light guiding me through the darkness of the\n",
        "unknown.\n",
        "As I embark on this journey into the depths of\n",
        "the pyramid, I am filled with a mixture of\n",
        "excitement and trepidation. The allure of\n",
        "uncovering ancient secrets and treasures\n",
        "beckons me forward, but with each step I take,\n",
        "I am reminded of the risks that accompany\n",
        "such endeavors.\n",
        "I cannot help but think of the life we have\n",
        "built together, the moments of joy and\n",
        "laughter we have shared, and the love that\n",
        "binds us together across time and space. It is\n",
        "your unwavering support and encouragement\n",
        "that give me strength in the face of\n",
        "uncertainty, and for that, I am eternally\n",
        "grateful.\n",
        "Though the sands of time may have long since\n",
        "buried the civilization that built this\n",
        "magnificent structure, I find solace in the\n",
        "knowledge that our love transcends the ages, a\n",
        "timeless testament to the power of the human\n",
        "spirit.\n",
        "Until we are reunited once more, know that\n",
        "you are always with me, guiding me through\n",
        "the labyrinth of life with your love and light.\n",
        "With all my heart,\n",
        "Your devoted.\"\"\"\n",
        "\n",
        "text2 = \"\"\"To My Dearest Nefertari,\n",
        "As I sit here amidst the grandeur of this\n",
        "antediluvian pyramid, surrounded by the\n",
        "whispers of the past, my thoughts turn to you,\n",
        "my beloved. Though miles may separate us,\n",
        "know that you are always in my heart, a\n",
        "beacon of light guiding me through the\n",
        "darkness of the unknown.\n",
        "As I embark on this voyage into the depths of\n",
        "the pyramid, I am filled with a mixture of\n",
        "excitement and trepidation. The allure of\n",
        "uncovering ancient secrets and treasures\n",
        "beckons me forward, but with each step I take,\n",
        "I am reminded of the risks that accompany\n",
        "such endeavors.\n",
        "I cannot help but think of the life we have\n",
        "built together, the moments of joy and\n",
        "laughter we have shared, and the love that\n",
        "binds us together within time and space. It is\n",
        "your unwavering support and encouragement\n",
        "that give me strength in the face of\n",
        "uncertainty, and for that, I am eternally\n",
        "grateful.\n",
        "Though the sands of time may have long since\n",
        "buried the society that built this magnificent\n",
        "structure, I find solace in the knowledge that\n",
        "our love transcends the ages, a timeless\n",
        "testament to the power of the human spirit.\n",
        "Until we are reunited once more, know that\n",
        "you are always with me, guiding me through\n",
        "the labyrinth of life with your love and light.\n",
        "With all my heart,\n",
        "Your devoted.\"\"\"\n",
        "\n",
        "# Find different words using Hunt-Szymanski\n",
        "different_words_hunt_szymanski = find_different_words_hunt_szymanski(text1, text2)\n",
        "print(different_words_hunt_szymanski)"
      ],
      "metadata": {
        "id": "tTbgWiCguw6Y",
        "colab": {
          "base_uri": "https://localhost:8080/"
        },
        "outputId": "7fc14aab-ed4b-4aef-f735-c22fb618b875"
      },
      "execution_count": null,
      "outputs": [
        {
          "output_type": "stream",
          "name": "stdout",
          "text": [
            "['- ancient', '+ antediluvian', '- journey', '+ voyage', '- across', '+ within', '- civilization', '+ society']\n"
          ]
        }
      ]
    },
    {
      "cell_type": "markdown",
      "source": [
        "# PART 5"
      ],
      "metadata": {
        "id": "emklS81Xudby"
      }
    },
    {
      "cell_type": "code",
      "source": [
        "def caesar_shift(text, shift):\n",
        "    deciphered_text = \"\"\n",
        "    for char in text:\n",
        "        if char.isalpha():  # Only shift alphabetic characters\n",
        "            # Determine if the letter is uppercase or lowercase\n",
        "            ascii_offset = ord('A') if char.isupper() else ord('a')\n",
        "            # Perform the shift\n",
        "            shifted_char = chr((ord(char) - ascii_offset - shift) % 26 + ascii_offset)\n",
        "            deciphered_text += shifted_char\n",
        "        else:\n",
        "            deciphered_text += char  # Non-alphabetic characters are not shifted\n",
        "    return deciphered_text\n",
        "\n",
        "ciphertext = \"Wkh vwdwxh lv exuulhg xqghu d wuhh pdunhg zlwk a rq Foxvwhu Lvodqg- 3\"\n",
        "shift = 3\n",
        "deciphered_text = caesar_shift(ciphertext, shift)\n",
        "print(\"Decrypted message:\", deciphered_text)"
      ],
      "metadata": {
        "id": "O1biOfZQuxiY",
        "outputId": "32c3e805-818b-439f-fe78-e6b6062e24a6",
        "colab": {
          "base_uri": "https://localhost:8080/"
        }
      },
      "execution_count": null,
      "outputs": [
        {
          "output_type": "stream",
          "name": "stdout",
          "text": [
            "Decrypted message: The statue is burried under a tree marked with x on Cluster Island- 3\n"
          ]
        }
      ]
    },
    {
      "cell_type": "markdown",
      "source": [
        "# PART 6"
      ],
      "metadata": {
        "id": "F22FeZ0PutRB"
      }
    },
    {
      "cell_type": "code",
      "source": [
        "import random\n",
        "\n",
        "\n",
        "def evaluateDaIsland(island, visited):\n",
        "    if island[\"location\"] not in visited:\n",
        "        if island[\"wild_animals\"] == \"No wild animals\":\n",
        "            return 3  # Safest\n",
        "        if island[\"wild_animals\"] == \"Some wild animals\" and island[\"land_condition\"] != \"Swamp area\":\n",
        "            return 2  # Safe enough\n",
        "        if island[\"wild_animals\"] == \"Small but poisonous animals\" and island[\"land_condition\"] == \"Sandy flat land\":\n",
        "            return 1  # Acceptable risk\n",
        "\n",
        "        return 0  # Not safe\n",
        "    else:\n",
        "        return -1\n",
        "\n",
        "\n",
        "def findDaTreasure(island):\n",
        "\n",
        "    score = evaluateDaIsland(island, [])\n",
        "    if score == 3:\n",
        "        probability = 0.01\n",
        "    elif score == 2:\n",
        "        probability = 0.1\n",
        "    elif score == 1:\n",
        "        probability = 0.9\n",
        "    else:\n",
        "        probability = 0.99\n",
        "\n",
        "    if round(random.random(), 2) < probability:\n",
        "        return True\n",
        "    else:\n",
        "        return False\n",
        "\n",
        "\n",
        "def findDaLocation(islands, visited):\n",
        "    best_score = -1\n",
        "    safest_island = None\n",
        "\n",
        "    for island in islands:\n",
        "        score = evaluateDaIsland(island, visited)\n",
        "        if score > best_score:\n",
        "            best_score = score\n",
        "            safest_island = island[\"location\"]\n",
        "\n",
        "    print(f\"The safest island to search is: {safest_island}\")\n",
        "    reason(islands, safest_island)\n",
        "\n",
        "    for island in islands:\n",
        "        if island[\"location\"] == safest_island:\n",
        "            found_treasure = findDaTreasure(island)\n",
        "            if found_treasure:\n",
        "                print(f\"Result of finding: Algo Jons found the treasure at {safest_island}!\\n\")\n",
        "            else:\n",
        "                print(f\"Result of finding: Algo Jons did not find the treasure at {safest_island}.\\n\")\n",
        "            break\n",
        "\n",
        "\n",
        "def reason(islands, location):\n",
        "    for island in islands:\n",
        "        if location == island[\"location\"]:\n",
        "            print(\"Reason: \\nLand Condition: \" + island[\"land_condition\"] + \"\\nNumber of Animals:  \" + island[\n",
        "                \"wild_animals\"])\n",
        "\n",
        "\n",
        "islaNubla = [\n",
        "    {\"location\": \"North\", \"land_condition\": \"Swamp area\", \"wild_animals\": \"Full of wild animals\"},\n",
        "    {\"location\": \"South\", \"land_condition\": \"Mountains and caves\", \"wild_animals\": \"Some wild animals\"},\n",
        "    {\"location\": \"East\", \"land_condition\": \"Thick woods and a lake\", \"wild_animals\": \"Full of wild animals\"},\n",
        "    {\"location\": \"West\", \"land_condition\": \"Sandy flat land\", \"wild_animals\": \"Small but poisonous animals\"},\n",
        "    {\"location\": \"Middle\", \"land_condition\": \"Villages and agriculture area\", \"wild_animals\": \"No wild animals\"}\n",
        "]\n",
        "\n",
        "findDaLocation(islaNubla, \"no\")\n",
        "findDaLocation(islaNubla, \"Middle\")\n",
        "findDaLocation(islaNubla, [\"Middle\", \"South\"])\n"
      ],
      "metadata": {
        "colab": {
          "base_uri": "https://localhost:8080/"
        },
        "id": "sxXU4mITuyDR",
        "outputId": "dd6ee7c3-138f-480a-ec52-fe1338921e79"
      },
      "execution_count": null,
      "outputs": [
        {
          "output_type": "stream",
          "name": "stdout",
          "text": [
            "The safest island to search is: Middle\n",
            "Reason: \n",
            "Land Condition: Villages and agriculture area\n",
            "Number of Animals:  No wild animals\n",
            "Result of finding: Algo Jons did not find the treasure at Middle.\n",
            "\n",
            "The safest island to search is: South\n",
            "Reason: \n",
            "Land Condition: Mountains and caves\n",
            "Number of Animals:  Some wild animals\n",
            "Result of finding: Algo Jons did not find the treasure at South.\n",
            "\n",
            "The safest island to search is: West\n",
            "Reason: \n",
            "Land Condition: Sandy flat land\n",
            "Number of Animals:  Small but poisonous animals\n",
            "Result of finding: Algo Jons found the treasure at West!\n",
            "\n"
          ]
        }
      ]
    }
  ]
}